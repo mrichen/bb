{
 "metadata": {
  "name": "",
  "signature": "sha256:34deeb78c4957bf988256bfb29c687a821e333fb2a10ae2126b4cb3a235a1de4"
 },
 "nbformat": 3,
 "nbformat_minor": 0,
 "worksheets": [
  {
   "cells": [
    {
     "cell_type": "code",
     "collapsed": false,
     "input": [
      "%matplotlib inline\n",
      "\n",
      "import urllib2\n",
      "import lxml.etree as et\n",
      "\n",
      "import pandas as pd\n",
      "import matplotlib.pyplot as plt"
     ],
     "language": "python",
     "metadata": {},
     "outputs": [],
     "prompt_number": 1
    },
    {
     "cell_type": "code",
     "collapsed": false,
     "input": [
      "URL = \"http://gd2.mlb.com/components/game/mlb/year_2014/month_08/day_22/gid_2014_08_22_sfnmlb_wasmlb_1/game_events.xml\"\n",
      "playerURL = \"http://gd2.mlb.com/components/game/mlb/year_2014/month_08/day_22/gid_2014_08_22_sfnmlb_wasmlb_1/players.xml\""
     ],
     "language": "python",
     "metadata": {},
     "outputs": [],
     "prompt_number": 2
    },
    {
     "cell_type": "code",
     "collapsed": false,
     "input": [
      "# get game data\n",
      "request = urllib2.Request(URL)\n",
      "result = urllib2.urlopen(request)\n",
      "print result.getcode()\n",
      "\n",
      "# get player data\n",
      "pl_request = urllib2.Request(playerURL)\n",
      "pl_result = urllib2.urlopen(pl_request)"
     ],
     "language": "python",
     "metadata": {},
     "outputs": [
      {
       "output_type": "stream",
       "stream": "stdout",
       "text": [
        "200\n"
       ]
      }
     ],
     "prompt_number": 3
    },
    {
     "cell_type": "code",
     "collapsed": false,
     "input": [
      "doc = et.parse(result)\n",
      "root = doc.getroot()"
     ],
     "language": "python",
     "metadata": {},
     "outputs": [],
     "prompt_number": 4
    },
    {
     "cell_type": "code",
     "collapsed": false,
     "input": [
      "pdoc = et.parse(pl_result)\n",
      "players = {}\n",
      "for player in pdoc.xpath('//game/team/player'):\n",
      "    players[player.attrib['id']] = player.attrib['boxname'] "
     ],
     "language": "python",
     "metadata": {},
     "outputs": [],
     "prompt_number": 5
    },
    {
     "cell_type": "code",
     "collapsed": false,
     "input": [
      "# create separate arrays for diff. attributes\n",
      "pitcher = []\n",
      "batter = []\n",
      "ptype = []\n",
      "speed = []\n",
      "result = []\n",
      "atbat = []\n",
      "inning = []\n",
      "\n",
      "pitchers = {}\n",
      "\n",
      "# parse pitch-by pitch data, populate individual arrays\n",
      "for pitch in doc.xpath('//game/inning/*/atbat/pitch'):\n",
      "    pitcher.append(players[pitch.getparent().attrib['pitcher']])\n",
      "    batter.append(players[pitch.getparent().attrib['batter']])\n",
      "    ptype.append(pitch.attrib['pitch_type'])\n",
      "    speed.append(float(pitch.attrib['start_speed']))\n",
      "    result.append(pitch.attrib['des'])\n",
      "    atbat.append(int(pitch.getparent().attrib['num']))\n",
      "    inning.append(int(pitch.getparent().getparent().getparent().attrib['num']))\n",
      "\n",
      "# combine into single df\n",
      "pitch_df = pd.DataFrame({'pitcher': pitcher, \n",
      "                         'batter': batter, \n",
      "                         'ptype': ptype, \n",
      "                         'speed': speed, \n",
      "                         'result': result, \n",
      "                         'atbat': atbat, \n",
      "                         'inning': inning})"
     ],
     "language": "python",
     "metadata": {},
     "outputs": [],
     "prompt_number": 6
    },
    {
     "cell_type": "code",
     "collapsed": false,
     "input": [
      "# assign per-pitcher counts\n",
      "n_pitch_df = pd.DataFrame()\n",
      "for i in pitch_df.pitcher.unique():\n",
      "    i_pitch_df = pitch_df[pitch_df.pitcher == i]\n",
      "    i_pitch_df['pnum'] = range(1, pitch_df[pitch_df.pitcher == i].speed.count() + 1)\n",
      "    n_pitch_df = n_pitch_df.append(i_pitch_df)"
     ],
     "language": "python",
     "metadata": {},
     "outputs": [],
     "prompt_number": 7
    },
    {
     "cell_type": "code",
     "collapsed": false,
     "input": [
      "n_pitch_df[n_pitch_df.pitcher == 'Hudson, T'].head(10)"
     ],
     "language": "python",
     "metadata": {},
     "outputs": [
      {
       "html": [
        "<div style=\"max-height:1000px;max-width:1500px;overflow:auto;\">\n",
        "<table border=\"1\" class=\"dataframe\">\n",
        "  <thead>\n",
        "    <tr style=\"text-align: right;\">\n",
        "      <th></th>\n",
        "      <th>atbat</th>\n",
        "      <th>batter</th>\n",
        "      <th>inning</th>\n",
        "      <th>pitcher</th>\n",
        "      <th>pnum</th>\n",
        "      <th>ptype</th>\n",
        "      <th>result</th>\n",
        "      <th>speed</th>\n",
        "    </tr>\n",
        "  </thead>\n",
        "  <tbody>\n",
        "    <tr>\n",
        "      <th>9 </th>\n",
        "      <td> 4</td>\n",
        "      <td>   Span</td>\n",
        "      <td> 1</td>\n",
        "      <td> Hudson, T</td>\n",
        "      <td>  1</td>\n",
        "      <td> SI</td>\n",
        "      <td> In play, out(s)</td>\n",
        "      <td> 88.8</td>\n",
        "    </tr>\n",
        "    <tr>\n",
        "      <th>10</th>\n",
        "      <td> 5</td>\n",
        "      <td> Rendon</td>\n",
        "      <td> 1</td>\n",
        "      <td> Hudson, T</td>\n",
        "      <td>  2</td>\n",
        "      <td> FF</td>\n",
        "      <td>   Called Strike</td>\n",
        "      <td> 89.0</td>\n",
        "    </tr>\n",
        "    <tr>\n",
        "      <th>11</th>\n",
        "      <td> 5</td>\n",
        "      <td> Rendon</td>\n",
        "      <td> 1</td>\n",
        "      <td> Hudson, T</td>\n",
        "      <td>  3</td>\n",
        "      <td> FC</td>\n",
        "      <td>            Ball</td>\n",
        "      <td> 82.9</td>\n",
        "    </tr>\n",
        "    <tr>\n",
        "      <th>12</th>\n",
        "      <td> 5</td>\n",
        "      <td> Rendon</td>\n",
        "      <td> 1</td>\n",
        "      <td> Hudson, T</td>\n",
        "      <td>  4</td>\n",
        "      <td> FC</td>\n",
        "      <td> Swinging Strike</td>\n",
        "      <td> 84.0</td>\n",
        "    </tr>\n",
        "    <tr>\n",
        "      <th>13</th>\n",
        "      <td> 5</td>\n",
        "      <td> Rendon</td>\n",
        "      <td> 1</td>\n",
        "      <td> Hudson, T</td>\n",
        "      <td>  5</td>\n",
        "      <td> CU</td>\n",
        "      <td>            Ball</td>\n",
        "      <td> 76.2</td>\n",
        "    </tr>\n",
        "    <tr>\n",
        "      <th>14</th>\n",
        "      <td> 5</td>\n",
        "      <td> Rendon</td>\n",
        "      <td> 1</td>\n",
        "      <td> Hudson, T</td>\n",
        "      <td>  6</td>\n",
        "      <td> FC</td>\n",
        "      <td>            Ball</td>\n",
        "      <td> 82.5</td>\n",
        "    </tr>\n",
        "    <tr>\n",
        "      <th>15</th>\n",
        "      <td> 5</td>\n",
        "      <td> Rendon</td>\n",
        "      <td> 1</td>\n",
        "      <td> Hudson, T</td>\n",
        "      <td>  7</td>\n",
        "      <td> FF</td>\n",
        "      <td>            Ball</td>\n",
        "      <td> 89.0</td>\n",
        "    </tr>\n",
        "    <tr>\n",
        "      <th>16</th>\n",
        "      <td> 6</td>\n",
        "      <td>  Werth</td>\n",
        "      <td> 1</td>\n",
        "      <td> Hudson, T</td>\n",
        "      <td>  8</td>\n",
        "      <td> SI</td>\n",
        "      <td>            Ball</td>\n",
        "      <td> 89.1</td>\n",
        "    </tr>\n",
        "    <tr>\n",
        "      <th>17</th>\n",
        "      <td> 6</td>\n",
        "      <td>  Werth</td>\n",
        "      <td> 1</td>\n",
        "      <td> Hudson, T</td>\n",
        "      <td>  9</td>\n",
        "      <td> SI</td>\n",
        "      <td>            Ball</td>\n",
        "      <td> 88.1</td>\n",
        "    </tr>\n",
        "    <tr>\n",
        "      <th>18</th>\n",
        "      <td> 6</td>\n",
        "      <td>  Werth</td>\n",
        "      <td> 1</td>\n",
        "      <td> Hudson, T</td>\n",
        "      <td> 10</td>\n",
        "      <td> SI</td>\n",
        "      <td>            Ball</td>\n",
        "      <td> 89.3</td>\n",
        "    </tr>\n",
        "  </tbody>\n",
        "</table>\n",
        "<p>10 rows \u00d7 8 columns</p>\n",
        "</div>"
       ],
       "metadata": {},
       "output_type": "pyout",
       "prompt_number": 13,
       "text": [
        "    atbat  batter  inning    pitcher  pnum ptype           result  speed\n",
        "9       4    Span       1  Hudson, T     1    SI  In play, out(s)   88.8\n",
        "10      5  Rendon       1  Hudson, T     2    FF    Called Strike   89.0\n",
        "11      5  Rendon       1  Hudson, T     3    FC             Ball   82.9\n",
        "12      5  Rendon       1  Hudson, T     4    FC  Swinging Strike   84.0\n",
        "13      5  Rendon       1  Hudson, T     5    CU             Ball   76.2\n",
        "14      5  Rendon       1  Hudson, T     6    FC             Ball   82.5\n",
        "15      5  Rendon       1  Hudson, T     7    FF             Ball   89.0\n",
        "16      6   Werth       1  Hudson, T     8    SI             Ball   89.1\n",
        "17      6   Werth       1  Hudson, T     9    SI             Ball   88.1\n",
        "18      6   Werth       1  Hudson, T    10    SI             Ball   89.3\n",
        "\n",
        "[10 rows x 8 columns]"
       ]
      }
     ],
     "prompt_number": 13
    },
    {
     "cell_type": "code",
     "collapsed": false,
     "input": [
      "n_pitch_df[n_pitch_df.pitcher == 'Hudson, T'].plot(figsize=(9,3), x='pnum', y='speed')\n",
      "plt.tight_layout()"
     ],
     "language": "python",
     "metadata": {},
     "outputs": [
      {
       "metadata": {},
       "output_type": "display_data",
       "png": "[encoded data removed]",
       "text": [
        "<matplotlib.figure.Figure at 0x107a56a90>"
       ]
      }
     ],
     "prompt_number": 14
    },
    {
     "cell_type": "code",
     "collapsed": false,
     "input": [
      "import plotly.plotly as py\n",
      "import plotly.graph_objs as pg\n",
      "\n",
      "py.sign_in(\"u\", \"p\")\n",
      "\n",
      "pss = pg.Scatter(x=n_pitch_df[n_pitch_df.pitcher == 'Hudson, T'].pnum, \n",
      "                 y=n_pitch_df[n_pitch_df.pitcher == 'Hudson, T'].speed,\n",
      "                 mode='lines+markers',\n",
      "                 text=n_pitch_df[n_pitch_df.pitcher == 'Hudson, T'].ptype\n",
      "                 )\n",
      "\n",
      "psdata = pg.Data([pss])\n",
      "#psfig = pg.Figure(psdata)\n",
      "\n",
      "plot_url = py.plot(psdata, filename='pitchspeed')"
     ],
     "language": "python",
     "metadata": {},
     "outputs": [
      {
       "output_type": "stream",
       "stream": "stdout",
       "text": [
        "High five! You successfuly sent some data to your account on plotly. View your plot in your browser at https://plot.ly/~matthewrichen/0 or inside your plot.ly account where it is named 'pitchspeed'\n"
       ]
      }
     ],
     "prompt_number": 34
    },
    {
     "cell_type": "code",
     "collapsed": false,
     "input": [
      "from ggplot import *\n",
      "\n",
      "print ggplot(aes(x='pnum', y='speed'), \n",
      "                 data=n_pitch_df[n_pitch_df.pitcher == 'Hudson, T'][['pnum', 'speed']])\n"
     ],
     "language": "python",
     "metadata": {},
     "outputs": [
      {
       "metadata": {},
       "output_type": "display_data",
       "png": "[encoded data removed]",
       "text": [
        "<matplotlib.figure.Figure at 0x10d157650>"
       ]
      },
      {
       "output_type": "stream",
       "stream": "stdout",
       "text": [
        "<ggplot: (278784561)>\n"
       ]
      }
     ],
     "prompt_number": 15
    },
    {
     "cell_type": "code",
     "collapsed": false,
     "input": [],
     "language": "python",
     "metadata": {},
     "outputs": []
    }
   ],
   "metadata": {}
  }
 ]
}